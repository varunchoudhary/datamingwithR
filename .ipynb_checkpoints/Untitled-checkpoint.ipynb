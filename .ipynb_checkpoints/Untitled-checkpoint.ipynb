{
 "cells": [
  {
   "cell_type": "code",
   "execution_count": null,
   "metadata": {
    "collapsed": true
   },
   "outputs": [],
   "source": [
    "import pandas as pd\n",
    "import xlrd\n",
    "df = pd.read_excel('Online Retail.xlsx',sheetname='Online Retail')\n",
    "\n",
    "country = df.Country.unique()\n",
    "\n",
    "dflist={}\n",
    "# code to write data into multiple data  files depending on county\n",
    "for i in country:\n",
    " \tdflist[i]=df[df['Country'] == i]\t\t\n",
    " \tdflist[i] = dflist[i].dropna(inplace=True)\n",
    "\t# dflist[x] = pd.dataframe(df)\n",
    " \t# print(dflist['RSA'][0])\n",
    " \t# dflist[i] = dflist[i].dropna()\n",
    " \t# dflist[i].to_excel(\"online\"+i+\".xlsx\")\n",
    "print(dflist['RSA'])"
   ]
  },
  {
   "cell_type": "code",
   "execution_count": null,
   "metadata": {
    "collapsed": true
   },
   "outputs": [],
   "source": []
  },
  {
   "cell_type": "code",
   "execution_count": null,
   "metadata": {
    "collapsed": true
   },
   "outputs": [],
   "source": []
  }
 ],
 "metadata": {
  "kernelspec": {
   "display_name": "Python 3",
   "language": "python",
   "name": "python3"
  },
  "language_info": {
   "codemirror_mode": {
    "name": "ipython",
    "version": 3
   },
   "file_extension": ".py",
   "mimetype": "text/x-python",
   "name": "python",
   "nbconvert_exporter": "python",
   "pygments_lexer": "ipython3",
   "version": "3.6.0"
  }
 },
 "nbformat": 4,
 "nbformat_minor": 2
}
