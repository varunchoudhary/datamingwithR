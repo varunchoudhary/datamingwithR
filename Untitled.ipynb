{
 "cells": [
  {
   "cell_type": "code",
   "execution_count": 4,
   "metadata": {
    "collapsed": false
   },
   "outputs": [
    {
     "name": "stderr",
     "output_type": "stream",
     "text": [
      "/home/varun/anaconda3/lib/python3.6/site-packages/ipykernel/__main__.py:13: SettingWithCopyWarning: \n",
      "A value is trying to be set on a copy of a slice from a DataFrame\n",
      "\n",
      "See the caveats in the documentation: http://pandas.pydata.org/pandas-docs/stable/indexing.html#indexing-view-versus-copy\n"
     ]
    },
    {
     "name": "stdout",
     "output_type": "stream",
     "text": [
      "None\n"
     ]
    }
   ],
   "source": [
    "import pandas as pd \n",
    "import xlrd\n",
    "df = pd.read_excel('Online Retail.xlsx',sheetname='Online Retail')\n",
    "\n",
    "country = df.Country.unique()\n",
    "# print(len(country))\n",
    "# print(country[5])\n",
    "####################################################\n",
    "dflist={}\n",
    "# code to write data into multiple data  files depending on county\n",
    "for i in country:\n",
    " \tdflist[i]=df[df['Country'] == i]\t\t\n",
    " \tdflist[i] = dflist[i].dropna(inplace=True)\n",
    "\t\n",
    "\t# dflist[x] = pd.dataframe(df)\n",
    " \t# print(dflist['RSA'][0])\n",
    " \t# dflist[i] = dflist[i].dropna()\n",
    " \t# dflist[i].to_excel(\"online\"+i+\".xlsx\")\n",
    "\n",
    "print(dflist[\"RSA\"])\n",
    "#####################################################\n"
   ]
  },
  {
   "cell_type": "code",
   "execution_count": null,
   "metadata": {
    "collapsed": true
   },
   "outputs": [],
   "source": []
  }
 ],
 "metadata": {
  "kernelspec": {
   "display_name": "Python 3",
   "language": "python",
   "name": "python3"
  },
  "language_info": {
   "codemirror_mode": {
    "name": "ipython",
    "version": 3
   },
   "file_extension": ".py",
   "mimetype": "text/x-python",
   "name": "python",
   "nbconvert_exporter": "python",
   "pygments_lexer": "ipython3",
   "version": "3.6.0"
  }
 },
 "nbformat": 4,
 "nbformat_minor": 2
}
